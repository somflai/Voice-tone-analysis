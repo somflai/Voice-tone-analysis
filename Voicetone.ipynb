{
  "nbformat": 4,
  "nbformat_minor": 0,
  "metadata": {
    "colab": {
      "name": "Copy of Copy of VoiceTone(Yash)",
      "provenance": [],
      "collapsed_sections": [
        "c1hf2At62QAs",
        "V1EKO5EdhF5r",
        "e9Bcn33lWiOP"
      ]
    },
    "kernelspec": {
      "name": "python3",
      "display_name": "Python 3"
    },
    "language_info": {
      "name": "python"
    },
    "accelerator": "TPU"
  },
  "cells": [
    {
      "cell_type": "code",
      "source": [
        "from google.colab import drive\n",
        "drive.mount('/content/drive')"
      ],
      "metadata": {
        "id": "hcpJK00w-Je-",
        "colab": {
          "base_uri": "https://localhost:8080/"
        },
        "outputId": "d20328d7-ac08-473f-a10c-d6b3e7fbdfb9"
      },
      "execution_count": 1,
      "outputs": [
        {
          "output_type": "stream",
          "name": "stdout",
          "text": [
            "Mounted at /content/drive\n"
          ]
        }
      ]
    },
    {
      "cell_type": "markdown",
      "source": [
        "## Imports and Dataframes "
      ],
      "metadata": {
        "id": "15AS9YeeinUX"
      }
    },
    {
      "cell_type": "code",
      "execution_count": 2,
      "metadata": {
        "id": "ZpXYDE4c8Lnd"
      },
      "outputs": [],
      "source": [
        "import pandas as pd\n",
        "import numpy as np"
      ]
    },
    {
      "cell_type": "code",
      "source": [
        "import IPython.display as ipd\n",
        "# % pylab inline\n",
        "import os\n",
        "import pandas as pd\n",
        "import librosa\n",
        "import glob \n",
        "import librosa.display\n",
        "import random\n",
        "import keras\n",
        "import tensorflow\n",
        "from sklearn.preprocessing import StandardScaler\n",
        "from sklearn.model_selection import train_test_split\n",
        "\n",
        "from keras.utils.np_utils import to_categorical\n",
        "\n",
        "import numpy as np\n",
        "from keras.models import Sequential\n",
        "from keras.layers import Dense, Dropout, Activation, Flatten\n",
        "from keras.layers import Convolution2D, MaxPooling2D\n",
        "\n",
        "from keras.utils import np_utils\n",
        "from sklearn import metrics \n",
        "\n",
        "from sklearn.datasets import make_regression\n",
        "from sklearn.preprocessing import StandardScaler\n",
        "from sklearn import metrics\n",
        "from sklearn.model_selection import train_test_split, GridSearchCV\n",
        "\n",
        "from tensorflow.keras.models import Sequential\n",
        "from tensorflow.keras.layers import Dense, Dropout \n",
        "from tensorflow.keras.wrappers.scikit_learn import KerasRegressor\n",
        "from keras.models import load_model\n",
        "from keras.models import Sequential\n",
        "from keras.layers import Dense, Dropout, Activation, Flatten\n",
        "from keras.layers import Conv1D, GlobalAveragePooling1D, MaxPooling1D\n",
        "from keras_preprocessing.image import ImageDataGenerator\n",
        "from keras.layers import Dense, Activation, Flatten, Dropout, BatchNormalization\n",
        "from keras.models import Sequential, Model\n",
        "from keras.layers import Conv2D, MaxPooling2D\n",
        "from keras import regularizers, optimizers\n",
        "\n",
        "from keras.callbacks import EarlyStopping\n",
        "\n",
        "from keras import regularizers\n",
        "\n",
        "from sklearn.preprocessing import LabelEncoder\n",
        "\n",
        "import os\n",
        "from glob import glob"
      ],
      "metadata": {
        "id": "U_711g7Q7-I3"
      },
      "execution_count": 285,
      "outputs": []
    },
    {
      "cell_type": "code",
      "source": [
        "df_train = pd.read_csv('/content/drive/My Drive/Voice Tone/VoiceTone_Training_Set.csv')\n",
        "df_test = pd.read_csv('/content/drive/My Drive/Voice Tone/VoiceTone_Test_Set.csv')"
      ],
      "metadata": {
        "id": "kB_zb58D9QfM"
      },
      "execution_count": 3,
      "outputs": []
    },
    {
      "cell_type": "code",
      "source": [
        "import soundfile # to read audio file\n",
        "import numpy as np\n",
        "import librosa # to extract speech features\n",
        "import glob\n",
        "import os\n",
        "import pickle # to save model after training\n",
        "from sklearn.model_selection import train_test_split # for splitting training and testing\n",
        "from sklearn.neural_network import MLPClassifier # multi-layer perceptron model\n",
        "from sklearn.metrics import accuracy_score # to measure how good we are"
      ],
      "metadata": {
        "id": "75pDvtJtQQpJ"
      },
      "execution_count": 286,
      "outputs": []
    },
    {
      "cell_type": "code",
      "source": [
        "import librosa as lb\n",
        "import soundfile as sf\n",
        "import numpy as np\n",
        "import os, glob, pickle\n",
        " \n",
        "from sklearn.model_selection import train_test_split\n",
        "from sklearn.neural_network import MLPClassifier\n",
        "from sklearn.metrics import accuracy_score"
      ],
      "metadata": {
        "id": "Rx5jv8mJDExp"
      },
      "execution_count": 5,
      "outputs": []
    },
    {
      "cell_type": "code",
      "source": [
        "dfres['Res1'].value_counts().plot(kind = 'barh')\n"
      ],
      "metadata": {
        "colab": {
          "base_uri": "https://localhost:8080/",
          "height": 283
        },
        "id": "tiSATYFxDnCD",
        "outputId": "50c4c68a-48be-4800-b02c-4388fd959e87"
      },
      "execution_count": 469,
      "outputs": [
        {
          "output_type": "execute_result",
          "data": {
            "text/plain": [
              "<matplotlib.axes._subplots.AxesSubplot at 0x7fbe1a980f50>"
            ]
          },
          "metadata": {},
          "execution_count": 469
        },
        {
          "output_type": "display_data",
          "data": {
            "text/plain": [
              "<Figure size 432x288 with 1 Axes>"
            ],
            "image/png": "[encoded data removed]"
          },
          "metadata": {
            "needs_background": "light"
          }
        }
      ]
    },
    {
      "cell_type": "markdown",
      "source": [
        "Possible useful sources:\n",
        "\n",
        "\n",
        "1.   https://www.thepythoncode.com/article/building-a-speech-emotion-recognizer-using-sklearn\n",
        "2.   https://www.intechopen.com/chapters/63970\n",
        "\n",
        "Usefule Libraries:\n",
        "\n",
        "\n",
        "1.   https://librosa.org/doc/latest/index.html\n",
        "2.   https://github.com/tyiannak/pyAudioAnalysis/\n",
        "\n",
        "\n",
        "\n",
        "\n"
      ],
      "metadata": {
        "id": "3ehV8m_q_xiD"
      }
    },
    {
      "cell_type": "markdown",
      "source": [
        "https://github.com/x4nth055/emotion-recognition-using-speech\n",
        "\n",
        "https://sonsuzdesign.blog/2021/03/15/building-a-speech-emotion-recognizer-using-python/"
      ],
      "metadata": {
        "id": "iFe5PKlJGefM"
      }
    },
    {
      "cell_type": "markdown",
      "source": [
        "Librosa has more documentation."
      ],
      "metadata": {
        "id": "wh86BsxHE8PY"
      }
    },
    {
      "cell_type": "markdown",
      "source": [
        "## pre processing noise reduction"
      ],
      "metadata": {
        "id": "c1hf2At62QAs"
      }
    },
    {
      "cell_type": "code",
      "source": [
        "import boto3\n",
        "from botocore.exceptions import ClientError\n",
        "\n",
        "def create_presigned_url(bucket_name, object_name, expiration=3600, method='get_object'):\n",
        "    client = boto3.client('s3')\n",
        "    try:\n",
        "        return client.generate_presigned_url(method,\n",
        "            Params={ 'Bucket': bucket_name, 'Key': object_name },\n",
        "            ExpiresIn=expiration\n",
        "            )\n",
        "    except ClientError as e:\n",
        "        print(e)"
      ],
      "metadata": {
        "id": "191vhZDT1LHC"
      },
      "execution_count": null,
      "outputs": []
    },
    {
      "cell_type": "code",
      "source": [
        "import os\n",
        "\n",
        "# Read API Key from runtime environment\n",
        "api_key = os.environ['DOLBYIO_API_KEY']"
      ],
      "metadata": {
        "colab": {
          "base_uri": "https://localhost:8080/",
          "height": 327
        },
        "id": "d4CtpHqG1fEU",
        "outputId": "0ac14713-0408-4e6e-ff25-85328b2b8982"
      },
      "execution_count": null,
      "outputs": [
        {
          "output_type": "error",
          "ename": "KeyError",
          "evalue": "ignored",
          "traceback": [
            "\u001b[0;31m---------------------------------------------------------------------------\u001b[0m",
            "\u001b[0;31mKeyError\u001b[0m                                  Traceback (most recent call last)",
            "\u001b[0;32m<ipython-input-2-bee6c42f7181>\u001b[0m in \u001b[0;36m<module>\u001b[0;34m()\u001b[0m\n\u001b[1;32m      2\u001b[0m \u001b[0;34m\u001b[0m\u001b[0m\n\u001b[1;32m      3\u001b[0m \u001b[0;31m# Read API Key from runtime environment\u001b[0m\u001b[0;34m\u001b[0m\u001b[0;34m\u001b[0m\u001b[0;34m\u001b[0m\u001b[0m\n\u001b[0;32m----> 4\u001b[0;31m \u001b[0mapi_key\u001b[0m \u001b[0;34m=\u001b[0m \u001b[0mos\u001b[0m\u001b[0;34m.\u001b[0m\u001b[0menviron\u001b[0m\u001b[0;34m[\u001b[0m\u001b[0;34m'DOLBYIO_API_KEY'\u001b[0m\u001b[0;34m]\u001b[0m\u001b[0;34m\u001b[0m\u001b[0;34m\u001b[0m\u001b[0m\n\u001b[0m",
            "\u001b[0;32m/usr/lib/python3.7/os.py\u001b[0m in \u001b[0;36m__getitem__\u001b[0;34m(self, key)\u001b[0m\n\u001b[1;32m    679\u001b[0m         \u001b[0;32mexcept\u001b[0m \u001b[0mKeyError\u001b[0m\u001b[0;34m:\u001b[0m\u001b[0;34m\u001b[0m\u001b[0;34m\u001b[0m\u001b[0m\n\u001b[1;32m    680\u001b[0m             \u001b[0;31m# raise KeyError with the original key value\u001b[0m\u001b[0;34m\u001b[0m\u001b[0;34m\u001b[0m\u001b[0;34m\u001b[0m\u001b[0m\n\u001b[0;32m--> 681\u001b[0;31m             \u001b[0;32mraise\u001b[0m \u001b[0mKeyError\u001b[0m\u001b[0;34m(\u001b[0m\u001b[0mkey\u001b[0m\u001b[0;34m)\u001b[0m \u001b[0;32mfrom\u001b[0m \u001b[0;32mNone\u001b[0m\u001b[0;34m\u001b[0m\u001b[0;34m\u001b[0m\u001b[0m\n\u001b[0m\u001b[1;32m    682\u001b[0m         \u001b[0;32mreturn\u001b[0m \u001b[0mself\u001b[0m\u001b[0;34m.\u001b[0m\u001b[0mdecodevalue\u001b[0m\u001b[0;34m(\u001b[0m\u001b[0mvalue\u001b[0m\u001b[0;34m)\u001b[0m\u001b[0;34m\u001b[0m\u001b[0;34m\u001b[0m\u001b[0m\n\u001b[1;32m    683\u001b[0m \u001b[0;34m\u001b[0m\u001b[0m\n",
            "\u001b[0;31mKeyError\u001b[0m: 'DOLBYIO_API_KEY'"
          ]
        }
      ]
    },
    {
      "cell_type": "markdown",
      "source": [
        "## "
      ],
      "metadata": {
        "id": "3-OZDbEx2NZT"
      }
    },
    {
      "cell_type": "markdown",
      "source": [
        "## Pre processing for modelling"
      ],
      "metadata": {
        "id": "oL9Z2uyb2VoU"
      }
    },
    {
      "cell_type": "markdown",
      "source": [
        "###imports\n"
      ],
      "metadata": {
        "id": "V1EKO5EdhF5r"
      }
    },
    {
      "cell_type": "code",
      "source": [
        "\n",
        "\n",
        "import IPython.display as ipd\n",
        "# % pylab inline\n",
        "import os\n",
        "import pandas as pd\n",
        "import librosa\n",
        "import glob \n",
        "import librosa.display\n",
        "import random\n",
        "\n",
        "from sklearn.preprocessing import StandardScaler\n",
        "from sklearn.model_selection import train_test_split\n",
        "\n",
        "from keras.utils.np_utils import to_categorical\n",
        "\n",
        "import numpy as np\n",
        "from keras.models import Sequential\n",
        "from keras.layers import Dense, Dropout, Activation, Flatten\n",
        "from keras.layers import Convolution2D, MaxPooling2D\n",
        "from tensorflow.keras.optimizers import Adam\n",
        "\n",
        "from keras.utils import np_utils\n",
        "from sklearn import metrics \n",
        "\n",
        "from sklearn.datasets import make_regression\n",
        "from sklearn.preprocessing import StandardScaler\n",
        "from sklearn import metrics\n",
        "from sklearn.model_selection import train_test_split, GridSearchCV\n",
        "\n",
        "from tensorflow.keras.models import Sequential\n",
        "from tensorflow.keras.layers import Dense, Dropout \n",
        "from tensorflow.keras.wrappers.scikit_learn import KerasRegressor\n",
        "\n",
        "from keras.callbacks import EarlyStopping\n",
        "\n",
        "from keras import regularizers\n",
        "\n",
        "from sklearn.preprocessing import LabelEncoder\n",
        "\n",
        "from datetime import datetime\n",
        "\n",
        "import os\n",
        "\n"
      ],
      "metadata": {
        "id": "R3TbbHjk2ZQr"
      },
      "execution_count": 6,
      "outputs": []
    },
    {
      "cell_type": "code",
      "source": [
        "df_train1 = df_train.drop(['Res1','Res2'], inplace=False, axis=1)"
      ],
      "metadata": {
        "id": "N0wUiEJk306y"
      },
      "execution_count": 7,
      "outputs": []
    },
    {
      "cell_type": "code",
      "source": [
        "df_test1 = df_test.drop(['Res1','Res2'], inplace=False, axis=1)"
      ],
      "metadata": {
        "id": "GaluS9zrFHrc"
      },
      "execution_count": 8,
      "outputs": []
    },
    {
      "cell_type": "markdown",
      "source": [
        "### Feature extraction using liberosa"
      ],
      "metadata": {
        "id": "JkDt-PiMh-Rd"
      }
    },
    {
      "cell_type": "code",
      "source": [
        "def extract_features(files):\n",
        "    # Sets the name to be the path to where the file is in my computer\n",
        "    file_name = \"/content/drive/MyDrive/Voice Tone/Train Files/\"+str(files)+\".wav\"\n",
        "    print(file_name)\n",
        "    # Loads the audio file as a floating point time series and assigns the default sample rate\n",
        "    # Sample rate is set to 22050 by default\n",
        "    X, sample_rate = librosa.load(file_name, res_type='kaiser_fast') \n",
        "\n",
        "    # Generate Mel-frequency cepstral coefficients (MFCCs) from a time series \n",
        "    mfccs = np.mean(librosa.feature.mfcc(y=X, sr=sample_rate, n_mfcc=120).T,axis=0)\n",
        "\n",
        "    # Generates a Short-time Fourier transform (STFT) to use in the chroma_stft\n",
        "    stft = np.abs(librosa.stft(X))\n",
        "\n",
        "    # Computes a chromagram from a waveform or power spectrogram.\n",
        "    chroma = np.mean(librosa.feature.chroma_stft(S=stft, sr=sample_rate).T,axis=0)\n",
        "\n",
        "    # Computes a mel-scaled spectrogram.\n",
        "    mel = np.mean(librosa.feature.melspectrogram(X, sr=sample_rate,n_mels=128).T,axis=0)\n",
        "\n",
        "    # Computes spectral contrast\n",
        "    contrast = np.mean(librosa.feature.spectral_contrast(S=stft, sr=sample_rate).T,axis=0)\n",
        "\n",
        "    # Computes the tonal centroid features (tonnetz)\n",
        "    tonnetz = np.mean(librosa.feature.tonnetz(y=librosa.effects.harmonic(X),\n",
        "    sr=sample_rate).T,axis=0)\n",
        "        \n",
        "    \n",
        "    # We add also the classes of each file as a label at the end\n",
        "    #label = files.label\n",
        "\n",
        "    return mfccs, chroma, mel, contrast, tonnetz\n"
      ],
      "metadata": {
        "id": "PviWaHUDA3kQ"
      },
      "execution_count": 9,
      "outputs": []
    },
    {
      "cell_type": "code",
      "source": [
        "def extract_features1(files):\n",
        "    # Sets the name to be the path to where the file is in my computer\n",
        "    file_name = \"/content/drive/MyDrive/Voice Tone/Train Files/\"+str(files)+\".wav\"\n",
        "    print(file_name)\n",
        "    # Loads the audio file as a floating point time series and assigns the default sample rate\n",
        "    # Sample rate is set to 22050 by default\n",
        "    X, sample_rate = librosa.load(file_name, res_type='kaiser_fast') \n",
        "\n",
        "    mel = np.mean(librosa.feature.melspectrogram(X, sr=sample_rate,n_mels=512).T,axis=0)\n",
        "\n",
        "    \n",
        "\n",
        "    return  mel\n"
      ],
      "metadata": {
        "id": "J4_-vI60N4hC"
      },
      "execution_count": 158,
      "outputs": []
    },
    {
      "cell_type": "code",
      "source": [
        "def extract_features2(files):\n",
        "    # Sets the name to be the path to where the file is in my computer\n",
        "    file_name = \"/content/drive/MyDrive/Voice Tone/Voice Tone Test Audio Files/\"+str(files)+\".wav\"\n",
        "    print(file_name)\n",
        "    # Loads the audio file as a floating point time series and assigns the default sample rate\n",
        "    # Sample rate is set to 22050 by default\n",
        "    X, sample_rate = librosa.load(file_name, res_type='kaiser_fast') \n",
        "\n",
        "    mfccs = np.mean(librosa.feature.mfcc(y=X, sr=sample_rate, n_mfcc=120).T,axis=0)\n",
        "\n",
        "    \n",
        "\n",
        "    return  mfccs"
      ],
      "metadata": {
        "id": "E4VNm7tHGn5B"
      },
      "execution_count": 183,
      "outputs": []
    },
    {
      "cell_type": "code",
      "source": [
        "test120mf = df_test['FileName'].apply(extract_features2)"
      ],
      "metadata": {
        "id": "0LjU2yzPK7fx"
      },
      "execution_count": null,
      "outputs": []
    },
    {
      "cell_type": "code",
      "source": [
        "features_label = df_train['FileName'].apply(extract_features1)"
      ],
      "metadata": {
        "id": "h5fnlm0VRtNQ"
      },
      "execution_count": null,
      "outputs": []
    },
    {
      "cell_type": "markdown",
      "source": [
        "### Saving data for reuse to save time"
      ],
      "metadata": {
        "id": "n9opYtiZiPMb"
      }
    },
    {
      "cell_type": "code",
      "source": [
        "test120 =  pd.DataFrame(test120mf)"
      ],
      "metadata": {
        "id": "K6L6g5TcIuGD"
      },
      "execution_count": 190,
      "outputs": []
    },
    {
      "cell_type": "code",
      "source": [
        "mel128db =  pd.DataFrame(test128)"
      ],
      "metadata": {
        "id": "ef61GDzG4DDv"
      },
      "execution_count": null,
      "outputs": []
    },
    {
      "cell_type": "code",
      "source": [
        "mel512db\n"
      ],
      "metadata": {
        "id": "bJWxpJWfVdHy"
      },
      "execution_count": null,
      "outputs": []
    },
    {
      "cell_type": "code",
      "source": [
        "dflabels =  pd.read_csv('/content/drive/MyDrive/Voice Tone/labelsfin .csv')"
      ],
      "metadata": {
        "id": "ToVnkN8sByWm"
      },
      "execution_count": null,
      "outputs": []
    },
    {
      "cell_type": "code",
      "source": [
        "dflabels"
      ],
      "metadata": {
        "id": "sZ1Q3bD2GXkG"
      },
      "execution_count": null,
      "outputs": []
    },
    {
      "cell_type": "code",
      "source": [
        "dfmf120= pd.DataFrame(mfcc120['FileName'].to_list(), columns=['mfccs', 'chroma', 'mel', 'contrast', 'tonnetz'])"
      ],
      "metadata": {
        "id": "EJmciFoWopxM"
      },
      "execution_count": 12,
      "outputs": []
    },
    {
      "cell_type": "code",
      "source": [
        "test120.to_json(r'/content/drive/MyDrive/Voice Tone/test120.json')"
      ],
      "metadata": {
        "id": "Wh1GOM7-2QQW"
      },
      "execution_count": 193,
      "outputs": []
    },
    {
      "cell_type": "code",
      "source": [
        "findf = pd.read_json('/content/drive/MyDrive/Voice Tone/mfcc120.json')\n"
      ],
      "metadata": {
        "id": "_Er457b3-8-2"
      },
      "execution_count": 197,
      "outputs": []
    },
    {
      "cell_type": "code",
      "source": [
        "tesdf = pd.read_json('/content/drive/MyDrive/Voice Tone/testdaf.json')"
      ],
      "metadata": {
        "id": "dcQcYOty5EU9"
      },
      "execution_count": 347,
      "outputs": []
    },
    {
      "cell_type": "code",
      "source": [
        "train512 = pd.read_json('/content/drive/MyDrive/Voice Tone/train512.json')"
      ],
      "metadata": {
        "id": "47m6C8yOhpXP"
      },
      "execution_count": 533,
      "outputs": []
    },
    {
      "cell_type": "code",
      "source": [
        "test512 = pd.read_json('/content/drive/MyDrive/Voice Tone/test512.json')\n"
      ],
      "metadata": {
        "id": "9pxOUHfdhwl8"
      },
      "execution_count": 535,
      "outputs": []
    },
    {
      "cell_type": "code",
      "source": [
        "tesdf['newcol'] = tesdf['mel'] + tesdf['tonnetz'] + tesdf['chroma'] + tesdf['mfccs'] "
      ],
      "metadata": {
        "id": "ln10VUxM5pE7"
      },
      "execution_count": null,
      "outputs": []
    },
    {
      "cell_type": "code",
      "source": [
        "dfres = pd.read_json('/content/drive/MyDrive/voicedataop.json')"
      ],
      "metadata": {
        "id": "pPc0B_5yIcoZ"
      },
      "execution_count": 201,
      "outputs": []
    },
    {
      "cell_type": "markdown",
      "source": [
        "### test data from test set"
      ],
      "metadata": {
        "id": "U21A6JJniaAG"
      }
    },
    {
      "cell_type": "code",
      "source": [
        "testX = np.array(test120['FileName'].tolist())"
      ],
      "metadata": {
        "id": "JobGijbl5eWM"
      },
      "execution_count": 511,
      "outputs": []
    },
    {
      "cell_type": "code",
      "source": [
        "testres1 = (test120['FileName'].tolist())"
      ],
      "metadata": {
        "id": "PIDX2fUM1gjg"
      },
      "execution_count": 372,
      "outputs": []
    },
    {
      "cell_type": "code",
      "source": [
        "testX.shape"
      ],
      "metadata": {
        "colab": {
          "base_uri": "https://localhost:8080/"
        },
        "id": "qup1VOWG7SYl",
        "outputId": "6e0dec24-6c80-453a-88ce-cb915281b9cd"
      },
      "execution_count": 512,
      "outputs": [
        {
          "output_type": "execute_result",
          "data": {
            "text/plain": [
              "(942, 120)"
            ]
          },
          "metadata": {},
          "execution_count": 512
        }
      ]
    },
    {
      "cell_type": "code",
      "source": [
        "findf"
      ],
      "metadata": {
        "id": "_mYVaG-Srqzr"
      },
      "execution_count": null,
      "outputs": []
    },
    {
      "cell_type": "markdown",
      "source": [
        "So there are 15 labels combining both the labels, We wil test unsupervised lelarning with two output for raw train ."
      ],
      "metadata": {
        "id": "Ca29TSekvt0J"
      }
    },
    {
      "cell_type": "markdown",
      "source": [
        "## NN"
      ],
      "metadata": {
        "id": "b1lTeHymDFMv"
      }
    },
    {
      "cell_type": "markdown",
      "source": [
        "### created a column called op for output and added as string so that we have labels for correct predictions. \n",
        "### So it makes a labels and while classification we know that accuracy is correct because a clssification is only correct if both res1 ans res2 are correctly indentified"
      ],
      "metadata": {
        "id": "2fs2mMB9izN6"
      }
    },
    {
      "cell_type": "code",
      "source": [
        "dfres['op1'] = dfres['Res1'].astype(str) + dfres['Res2'].astype(str)"
      ],
      "metadata": {
        "id": "rYqmHSXq0eyy"
      },
      "execution_count": 599,
      "outputs": []
    },
    {
      "cell_type": "code",
      "source": [
        "dftesttrue['opt'] = dftesttrue['Res1'].astype(str) + dftesttrue['Res2'].astype(str)"
      ],
      "metadata": {
        "id": "BjOMkjW1oKRN"
      },
      "execution_count": 614,
      "outputs": []
    },
    {
      "cell_type": "code",
      "source": [
        "findf['op']"
      ],
      "metadata": {
        "colab": {
          "base_uri": "https://localhost:8080/"
        },
        "id": "6yOaZrxKle3h",
        "outputId": "5a905b29-7436-4e6b-8ffe-fbcf961a4893"
      },
      "execution_count": null,
      "outputs": [
        {
          "output_type": "execute_result",
          "data": {
            "text/plain": [
              "0       0.00.0\n",
              "1       1.03.0\n",
              "2       0.02.0\n",
              "3       2.05.0\n",
              "4       0.02.0\n",
              "         ...  \n",
              "6495    0.05.0\n",
              "6496    0.01.0\n",
              "6497    0.02.0\n",
              "6498    0.01.0\n",
              "6499    0.02.0\n",
              "Name: op, Length: 6500, dtype: object"
            ]
          },
          "metadata": {},
          "execution_count": 285
        }
      ]
    },
    {
      "cell_type": "code",
      "source": [
        "findf = findf.fillna(0)\n",
        "dfres = dfres.fillna(0)"
      ],
      "metadata": {
        "id": "9MVO1ngX0rLl"
      },
      "execution_count": 597,
      "outputs": []
    },
    {
      "cell_type": "markdown",
      "source": [
        "### encoding and final databse"
      ],
      "metadata": {
        "id": "p41onhqklhAy"
      }
    },
    {
      "cell_type": "code",
      "source": [
        "dummy_Res1 = pd.get_dummies(findf['Res1'], prefix='Res1_')"
      ],
      "metadata": {
        "id": "C40bAUL4wPR2"
      },
      "execution_count": 56,
      "outputs": []
    },
    {
      "cell_type": "code",
      "source": [
        "dummy_Res2 = pd.get_dummies(findf['Res2'], prefix='Res2_')"
      ],
      "metadata": {
        "id": "wPD7kyF6xIg5"
      },
      "execution_count": 57,
      "outputs": []
    },
    {
      "cell_type": "code",
      "source": [
        "findft = pd.concat([findf,dummy_Res1,dummy_Res2 ], axis=1)"
      ],
      "metadata": {
        "id": "METwgXAhxMeB"
      },
      "execution_count": 58,
      "outputs": []
    },
    {
      "cell_type": "code",
      "source": [
        "# We create an empty list where we will concatenate all the features into one long feature\n",
        "# for each file to feed into our neural network\n",
        "#this did not yield good results.\n",
        "\n",
        "features = []\n",
        "for i in range(0, len(features_label)):\n",
        "    features.append(np.concatenate((features_label[i][0], features_label[i][1], \n",
        "                features_label[i][2], features_label[i][3],\n",
        "                features_label[i][4]), axis=0))"
      ],
      "metadata": {
        "id": "81D5n_BKyH3r"
      },
      "execution_count": null,
      "outputs": []
    },
    {
      "cell_type": "code",
      "source": [
        "X = np.array(features)"
      ],
      "metadata": {
        "id": "o_NjNIJRyWbH"
      },
      "execution_count": null,
      "outputs": []
    },
    {
      "cell_type": "markdown",
      "source": [
        "### pulling from the database and define input and output. And Split and scale"
      ],
      "metadata": {
        "id": "NJ35tx9blosb"
      }
    },
    {
      "cell_type": "code",
      "source": [
        "X = np.array(findf['mfccs'].tolist())"
      ],
      "metadata": {
        "id": "kDaKS7p4BJbh"
      },
      "execution_count": 590,
      "outputs": []
    },
    {
      "cell_type": "code",
      "source": [
        "x = np.array(findf['chroma'].tolist())"
      ],
      "metadata": {
        "id": "mVZanoUS85FJ"
      },
      "execution_count": 591,
      "outputs": []
    },
    {
      "cell_type": "code",
      "source": [
        "X.shape"
      ],
      "metadata": {
        "colab": {
          "base_uri": "https://localhost:8080/"
        },
        "id": "-38DYeOU1AXn",
        "outputId": "0b627d2e-728d-4ca4-c54f-08d0b9398e75"
      },
      "execution_count": 592,
      "outputs": [
        {
          "output_type": "execute_result",
          "data": {
            "text/plain": [
              "(6500, 120)"
            ]
          },
          "metadata": {},
          "execution_count": 592
        }
      ]
    },
    {
      "cell_type": "code",
      "source": [
        "\n",
        "\n",
        "y = np.array(dfres[['Res2']])\n",
        "yt = np.array(dftesttrue[['opt']])\n"
      ],
      "metadata": {
        "id": "_s_51bd2yfrX"
      },
      "execution_count": 615,
      "outputs": []
    },
    {
      "cell_type": "code",
      "source": [
        "lb = LabelEncoder()\n",
        "y = to_categorical(lb.fit_transform(y))\n",
        "yt = to_categorical(lb.fit_transform(yt))"
      ],
      "metadata": {
        "colab": {
          "base_uri": "https://localhost:8080/"
        },
        "id": "mHYni_sfzq3z",
        "outputId": "c6634504-034f-456b-c03c-e2fdd7e0e62e"
      },
      "execution_count": 616,
      "outputs": [
        {
          "output_type": "stream",
          "name": "stderr",
          "text": [
            "/usr/local/lib/python3.7/dist-packages/sklearn/preprocessing/_label.py:115: DataConversionWarning: A column-vector y was passed when a 1d array was expected. Please change the shape of y to (n_samples, ), for example using ravel().\n",
            "  y = column_or_1d(y, warn=True)\n"
          ]
        }
      ]
    },
    {
      "cell_type": "code",
      "source": [
        "y.shape"
      ],
      "metadata": {
        "colab": {
          "base_uri": "https://localhost:8080/"
        },
        "id": "HLQ14etq2_ir",
        "outputId": "420f90a6-a9bd-40de-d921-d3d10452209d"
      },
      "execution_count": 603,
      "outputs": [
        {
          "output_type": "execute_result",
          "data": {
            "text/plain": [
              "(6500, 21)"
            ]
          },
          "metadata": {},
          "execution_count": 603
        }
      ]
    },
    {
      "cell_type": "code",
      "source": [
        "#Splitting for testing training and design\n",
        "from sklearn.model_selection import train_test_split\n",
        "X_train, X_test, y_train, y_test = train_test_split(X, y, test_size=0.10, random_state=42)\n",
        "X_train, X_val, y_train, y_val = train_test_split(X_train, y_train,test_size=0.20, random_state= 8)"
      ],
      "metadata": {
        "id": "mLNk7GeVyvQx"
      },
      "execution_count": 604,
      "outputs": []
    },
    {
      "cell_type": "code",
      "source": [
        "#Testing for output and training on bigger set for prediction\n",
        "X_train, X_val, y_train, y_val = train_test_split(X, y, test_size=0.1, random_state=42)"
      ],
      "metadata": {
        "id": "AJVLD_Ip7UDN"
      },
      "execution_count": 477,
      "outputs": []
    },
    {
      "cell_type": "code",
      "source": [
        "y_val.shape"
      ],
      "metadata": {
        "colab": {
          "base_uri": "https://localhost:8080/"
        },
        "id": "ntwZnJig8vP4",
        "outputId": "1ab3d809-817c-4ed4-c500-d0c52c667659"
      },
      "execution_count": 499,
      "outputs": [
        {
          "output_type": "execute_result",
          "data": {
            "text/plain": [
              "(1170, 6)"
            ]
          },
          "metadata": {},
          "execution_count": 499
        }
      ]
    },
    {
      "cell_type": "code",
      "source": [
        "ss = StandardScaler()\n",
        "X_train = ss.fit_transform(X_train)\n",
        "X_val = ss.transform(X_val)\n",
        "X_test = ss.transform(X_test)\n",
        "testres1 = ss.fit_transform(testres1)\n",
        "testX = ss.transform(testX)"
      ],
      "metadata": {
        "id": "-eiOgmLxzAIA"
      },
      "execution_count": 605,
      "outputs": []
    },
    {
      "cell_type": "markdown",
      "source": [
        "### Feed forwad network"
      ],
      "metadata": {
        "id": "dAId7YiNmtem"
      }
    },
    {
      "cell_type": "code",
      "source": [
        "# Build a simple dense model with early stopping with softmax for categorical classification\n",
        "\n",
        "model = Sequential()\n",
        "\n",
        "model.add(Dense(120 ,input_shape=(120,), activation = 'relu'))\n",
        "model.add(Dropout(0.1))\n",
        "model.add(Dense(80, activation = 'relu'))\n",
        "model.add(Dropout(0.25))  \n",
        "model.add(Dense(40, activation = 'relu'))\n",
        "model.add(Dropout(0.35))  \n",
        "\n",
        "model.add(Dense(20, activation = 'sigmoid'))\n",
        "model.add(Dropout(0.2))    \n",
        "\n",
        "model.add(Dense(21, activation = 'softmax'))\n",
        "\n",
        "model.compile(loss='categorical_crossentropy', metrics=['accuracy'], optimizer='adam')\n",
        "\n",
        "early_stop = EarlyStopping(monitor='val_loss', min_delta=0, patience=100, verbose=1, mode='auto')"
      ],
      "metadata": {
        "id": "JfIzcZxizhPg"
      },
      "execution_count": 606,
      "outputs": []
    },
    {
      "cell_type": "code",
      "source": [
        "\n",
        "\n",
        "# fitting the model with the train data and validation with the validation data\n",
        "# we used early stop with patience 100 because we did not want to use early stop\n",
        "# I leave the early stop regularization code in case anyone wants to use it\n",
        "\n",
        "history = model.fit(X_train, y_train, batch_size=128, epochs=50, \n",
        "                    validation_data=(X_val, y_val),\n",
        "                    callbacks=[early_stop])\n",
        "                    \n",
        "\n"
      ],
      "metadata": {
        "colab": {
          "base_uri": "https://localhost:8080/"
        },
        "id": "SvzrCe3W8htH",
        "outputId": "aec752fb-2c42-4cc4-e84a-20314980bdcb"
      },
      "execution_count": 609,
      "outputs": [
        {
          "output_type": "stream",
          "name": "stdout",
          "text": [
            "Epoch 1/50\n",
            "37/37 [==============================] - 0s 10ms/step - loss: 0.8078 - accuracy: 0.7410 - val_loss: 2.3385 - val_accuracy: 0.3949\n",
            "Epoch 2/50\n",
            "37/37 [==============================] - 0s 11ms/step - loss: 0.7619 - accuracy: 0.7592 - val_loss: 2.3365 - val_accuracy: 0.4009\n",
            "Epoch 3/50\n",
            "37/37 [==============================] - 1s 14ms/step - loss: 0.7782 - accuracy: 0.7470 - val_loss: 2.3068 - val_accuracy: 0.4060\n",
            "Epoch 4/50\n",
            "37/37 [==============================] - 0s 10ms/step - loss: 0.7803 - accuracy: 0.7483 - val_loss: 2.3256 - val_accuracy: 0.3991\n",
            "Epoch 5/50\n",
            "37/37 [==============================] - 0s 11ms/step - loss: 0.7895 - accuracy: 0.7427 - val_loss: 2.3302 - val_accuracy: 0.4068\n",
            "Epoch 6/50\n",
            "37/37 [==============================] - 0s 11ms/step - loss: 0.7880 - accuracy: 0.7436 - val_loss: 2.3083 - val_accuracy: 0.3991\n",
            "Epoch 7/50\n",
            "37/37 [==============================] - 0s 12ms/step - loss: 0.7708 - accuracy: 0.7451 - val_loss: 2.3543 - val_accuracy: 0.3932\n",
            "Epoch 8/50\n",
            "37/37 [==============================] - 0s 12ms/step - loss: 0.7620 - accuracy: 0.7498 - val_loss: 2.3311 - val_accuracy: 0.3983\n",
            "Epoch 9/50\n",
            "37/37 [==============================] - 0s 12ms/step - loss: 0.8079 - accuracy: 0.7402 - val_loss: 2.3304 - val_accuracy: 0.3957\n",
            "Epoch 10/50\n",
            "37/37 [==============================] - 1s 14ms/step - loss: 0.7553 - accuracy: 0.7573 - val_loss: 2.3712 - val_accuracy: 0.4060\n",
            "Epoch 11/50\n",
            "37/37 [==============================] - 1s 15ms/step - loss: 0.7538 - accuracy: 0.7538 - val_loss: 2.3685 - val_accuracy: 0.3957\n",
            "Epoch 12/50\n",
            "37/37 [==============================] - 1s 15ms/step - loss: 0.7703 - accuracy: 0.7560 - val_loss: 2.3644 - val_accuracy: 0.3957\n",
            "Epoch 13/50\n",
            "37/37 [==============================] - 1s 14ms/step - loss: 0.7650 - accuracy: 0.7538 - val_loss: 2.3599 - val_accuracy: 0.3812\n",
            "Epoch 14/50\n",
            "37/37 [==============================] - 0s 12ms/step - loss: 0.7538 - accuracy: 0.7500 - val_loss: 2.3369 - val_accuracy: 0.4009\n",
            "Epoch 15/50\n",
            "37/37 [==============================] - 1s 14ms/step - loss: 0.7620 - accuracy: 0.7425 - val_loss: 2.3643 - val_accuracy: 0.4026\n",
            "Epoch 16/50\n",
            "37/37 [==============================] - 1s 15ms/step - loss: 0.7554 - accuracy: 0.7583 - val_loss: 2.3614 - val_accuracy: 0.3906\n",
            "Epoch 17/50\n",
            "37/37 [==============================] - 1s 17ms/step - loss: 0.7601 - accuracy: 0.7541 - val_loss: 2.3689 - val_accuracy: 0.4017\n",
            "Epoch 18/50\n",
            "37/37 [==============================] - 0s 13ms/step - loss: 0.7563 - accuracy: 0.7585 - val_loss: 2.3828 - val_accuracy: 0.3966\n",
            "Epoch 19/50\n",
            "37/37 [==============================] - 0s 11ms/step - loss: 0.7256 - accuracy: 0.7637 - val_loss: 2.4188 - val_accuracy: 0.3974\n",
            "Epoch 20/50\n",
            "37/37 [==============================] - 0s 10ms/step - loss: 0.7480 - accuracy: 0.7528 - val_loss: 2.4380 - val_accuracy: 0.4000\n",
            "Epoch 21/50\n",
            "37/37 [==============================] - 0s 11ms/step - loss: 0.7588 - accuracy: 0.7585 - val_loss: 2.4124 - val_accuracy: 0.3932\n",
            "Epoch 22/50\n",
            "37/37 [==============================] - 0s 11ms/step - loss: 0.7350 - accuracy: 0.7647 - val_loss: 2.4543 - val_accuracy: 0.3983\n",
            "Epoch 23/50\n",
            "37/37 [==============================] - 0s 11ms/step - loss: 0.7579 - accuracy: 0.7564 - val_loss: 2.4156 - val_accuracy: 0.3949\n",
            "Epoch 24/50\n",
            "37/37 [==============================] - 0s 12ms/step - loss: 0.7229 - accuracy: 0.7679 - val_loss: 2.4311 - val_accuracy: 0.3983\n",
            "Epoch 25/50\n",
            "37/37 [==============================] - 0s 10ms/step - loss: 0.7432 - accuracy: 0.7596 - val_loss: 2.3854 - val_accuracy: 0.4000\n",
            "Epoch 26/50\n",
            "37/37 [==============================] - 0s 9ms/step - loss: 0.7247 - accuracy: 0.7632 - val_loss: 2.4074 - val_accuracy: 0.4111\n",
            "Epoch 27/50\n",
            "37/37 [==============================] - 0s 11ms/step - loss: 0.7168 - accuracy: 0.7677 - val_loss: 2.4182 - val_accuracy: 0.4060\n",
            "Epoch 28/50\n",
            "37/37 [==============================] - 0s 9ms/step - loss: 0.7137 - accuracy: 0.7626 - val_loss: 2.3994 - val_accuracy: 0.4009\n",
            "Epoch 29/50\n",
            "37/37 [==============================] - 0s 8ms/step - loss: 0.7234 - accuracy: 0.7675 - val_loss: 2.4461 - val_accuracy: 0.4026\n",
            "Epoch 30/50\n",
            "37/37 [==============================] - 0s 10ms/step - loss: 0.7179 - accuracy: 0.7639 - val_loss: 2.4430 - val_accuracy: 0.4009\n",
            "Epoch 31/50\n",
            "37/37 [==============================] - 0s 5ms/step - loss: 0.7493 - accuracy: 0.7583 - val_loss: 2.4486 - val_accuracy: 0.4068\n",
            "Epoch 32/50\n",
            "37/37 [==============================] - 0s 5ms/step - loss: 0.7288 - accuracy: 0.7624 - val_loss: 2.4177 - val_accuracy: 0.4017\n",
            "Epoch 33/50\n",
            "37/37 [==============================] - 0s 5ms/step - loss: 0.7107 - accuracy: 0.7650 - val_loss: 2.4787 - val_accuracy: 0.4000\n",
            "Epoch 34/50\n",
            "37/37 [==============================] - 0s 5ms/step - loss: 0.7190 - accuracy: 0.7682 - val_loss: 2.4658 - val_accuracy: 0.3915\n",
            "Epoch 35/50\n",
            "37/37 [==============================] - 0s 5ms/step - loss: 0.7016 - accuracy: 0.7780 - val_loss: 2.4591 - val_accuracy: 0.3897\n",
            "Epoch 36/50\n",
            "37/37 [==============================] - 0s 5ms/step - loss: 0.7075 - accuracy: 0.7705 - val_loss: 2.4785 - val_accuracy: 0.4009\n",
            "Epoch 37/50\n",
            "37/37 [==============================] - 0s 5ms/step - loss: 0.6947 - accuracy: 0.7752 - val_loss: 2.5003 - val_accuracy: 0.3940\n",
            "Epoch 38/50\n",
            "37/37 [==============================] - 0s 5ms/step - loss: 0.6990 - accuracy: 0.7697 - val_loss: 2.5213 - val_accuracy: 0.3838\n",
            "Epoch 39/50\n",
            "37/37 [==============================] - 0s 5ms/step - loss: 0.6957 - accuracy: 0.7707 - val_loss: 2.5118 - val_accuracy: 0.3983\n",
            "Epoch 40/50\n",
            "37/37 [==============================] - 0s 5ms/step - loss: 0.7001 - accuracy: 0.7686 - val_loss: 2.4964 - val_accuracy: 0.4000\n",
            "Epoch 41/50\n",
            "37/37 [==============================] - 0s 5ms/step - loss: 0.7031 - accuracy: 0.7697 - val_loss: 2.4980 - val_accuracy: 0.4043\n",
            "Epoch 42/50\n",
            "37/37 [==============================] - 0s 5ms/step - loss: 0.6618 - accuracy: 0.7846 - val_loss: 2.5252 - val_accuracy: 0.3957\n",
            "Epoch 43/50\n",
            "37/37 [==============================] - 0s 5ms/step - loss: 0.6995 - accuracy: 0.7763 - val_loss: 2.5058 - val_accuracy: 0.4026\n",
            "Epoch 44/50\n",
            "37/37 [==============================] - 0s 5ms/step - loss: 0.7129 - accuracy: 0.7679 - val_loss: 2.5208 - val_accuracy: 0.4034\n",
            "Epoch 45/50\n",
            "37/37 [==============================] - 0s 6ms/step - loss: 0.6921 - accuracy: 0.7726 - val_loss: 2.5136 - val_accuracy: 0.3949\n",
            "Epoch 46/50\n",
            "37/37 [==============================] - 0s 5ms/step - loss: 0.7068 - accuracy: 0.7707 - val_loss: 2.5219 - val_accuracy: 0.4017\n",
            "Epoch 47/50\n",
            "37/37 [==============================] - 0s 5ms/step - loss: 0.7304 - accuracy: 0.7658 - val_loss: 2.4879 - val_accuracy: 0.4060\n",
            "Epoch 48/50\n",
            "37/37 [==============================] - 0s 5ms/step - loss: 0.6643 - accuracy: 0.7829 - val_loss: 2.5262 - val_accuracy: 0.4051\n",
            "Epoch 49/50\n",
            "37/37 [==============================] - 0s 5ms/step - loss: 0.6693 - accuracy: 0.7838 - val_loss: 2.5570 - val_accuracy: 0.3906\n",
            "Epoch 50/50\n",
            "37/37 [==============================] - 0s 6ms/step - loss: 0.6842 - accuracy: 0.7735 - val_loss: 2.5640 - val_accuracy: 0.4085\n"
          ]
        }
      ]
    },
    {
      "cell_type": "code",
      "source": [
        "import matplotlib.pyplot as plt\n",
        "\n",
        "# Check out our train accuracy and validation accuracy over epochs.\n",
        "train_accuracy = history.history['accuracy']\n",
        "val_accuracy = history.history['val_accuracy']\n",
        "\n",
        "# Set figure size.\n",
        "plt.figure(figsize=(12, 8))\n",
        "\n",
        "# Generate line plot of training, testing loss over epochs.\n",
        "plt.plot(train_accuracy, label='Training Accuracy', color='#185fad')\n",
        "plt.plot(val_accuracy, label='Validation Accuracy', color='orange')\n",
        "\n",
        "# Set title\n",
        "plt.title('Training and Validation Accuracy by Epoch', fontsize = 25)\n",
        "plt.xlabel('Epoch', fontsize = 18)\n",
        "plt.ylabel('Categorical Crossentropy', fontsize = 18)\n",
        "plt.xticks(range(0,50,5), range(0,50,5))\n",
        "\n",
        "plt.legend(fontsize = 18);\n",
        "\n"
      ],
      "metadata": {
        "colab": {
          "base_uri": "https://localhost:8080/",
          "height": 530
        },
        "id": "SCaFdpCl4kAv",
        "outputId": "02015cfe-42c4-48c5-96d8-9243801144b7"
      },
      "execution_count": 610,
      "outputs": [
        {
          "output_type": "display_data",
          "data": {
            "text/plain": [
              "<Figure size 864x576 with 1 Axes>"
            ],
            "image/png": "[encoded data removed]"
          },
          "metadata": {
            "needs_background": "light"
          }
        }
      ]
    },
    {
      "cell_type": "code",
      "source": [
        "score = model.evaluate(X_train, y_train, verbose=0)\n",
        "print(\"Training Accuracy: \", score[1])\n",
        "\n",
        "score = model.evaluate(testX, yt, verbose=0)\n",
        "print(\"Testing Accuracy: \", score[1])"
      ],
      "metadata": {
        "colab": {
          "base_uri": "https://localhost:8080/"
        },
        "id": "cy1BWYzxV6tB",
        "outputId": "63793a2f-0775-402b-95be-e47947aa3170"
      },
      "execution_count": 619,
      "outputs": [
        {
          "output_type": "stream",
          "name": "stdout",
          "text": [
            "Training Accuracy:  0.8702991604804993\n",
            "Testing Accuracy:  0.4012738764286041\n"
          ]
        }
      ]
    },
    {
      "cell_type": "markdown",
      "source": [
        "above are scores for one of the test set for 21 categorical answer."
      ],
      "metadata": {
        "id": "1Y03SVZUT2X_"
      }
    },
    {
      "cell_type": "code",
      "source": [
        "dftesttrue = pd.read_csv('/content/truevoice.csv')"
      ],
      "metadata": {
        "id": "PP3pp4PtoaAX"
      },
      "execution_count": 613,
      "outputs": []
    },
    {
      "cell_type": "code",
      "source": [
        "ss = StandardScaler()\n",
        "X = ss.fit_transform(X)\n",
        "testX = ss.fit_transform(testX)"
      ],
      "metadata": {
        "id": "OvfRoE-hbCCR"
      },
      "execution_count": 525,
      "outputs": []
    },
    {
      "cell_type": "code",
      "source": [
        "# We get our predictions from the test data\n",
        "predict_x=model.predict(testX) \n",
        "classes_xres1=np.argmax(predict_x,axis=1)\n"
      ],
      "metadata": {
        "id": "dHy5eWX17DvV"
      },
      "execution_count": 617,
      "outputs": []
    },
    {
      "cell_type": "code",
      "source": [
        "#Predictions for the 21 classes\n",
        "classes_xres1"
      ],
      "metadata": {
        "id": "S9uFNJro56YO",
        "colab": {
          "base_uri": "https://localhost:8080/"
        },
        "outputId": "1ad59527-ca87-4a7f-b481-09997600e6ba"
      },
      "execution_count": 618,
      "outputs": [
        {
          "output_type": "execute_result",
          "data": {
            "text/plain": [
              "array([ 2,  4,  0,  0,  3,  2,  4,  1,  4,  2, 16,  4,  4,  5, 15,  3,  1,\n",
              "        1,  3,  0,  0,  4,  2,  5,  3, 13,  0,  4,  5,  0,  3,  5,  3,  2,\n",
              "        0,  8,  4,  0,  2,  3,  3,  5,  1,  0,  7,  1, 10,  3,  1,  4,  1,\n",
              "        5,  9, 15,  2,  1,  0,  4,  0,  4,  4,  4,  3,  2,  4,  5,  1,  4,\n",
              "        5,  0,  3,  5, 13,  4,  2,  3, 18,  1,  4,  1,  3,  5,  3, 12,  1,\n",
              "        5,  0,  4,  2,  2,  4,  2,  8,  1,  1, 11,  3,  2,  4,  4,  1,  2,\n",
              "        4,  0,  8,  4,  0,  3,  1,  3,  4,  5,  0, 16,  0, 14,  8,  4,  1,\n",
              "        2,  5,  4,  5,  3,  4, 11, 14,  4,  2, 12,  0,  3,  0,  5,  2,  4,\n",
              "        0,  3,  1,  2,  1,  2,  5,  1,  5, 12,  0,  1,  8,  0,  5,  0,  0,\n",
              "        2,  3,  3,  0,  0,  2,  1, 18,  1,  1, 11,  3,  3,  4,  5,  3,  1,\n",
              "        3,  8,  7,  0,  3,  5,  0,  3,  5,  1, 12, 20,  3,  1,  4,  0, 16,\n",
              "       13,  3,  3,  1, 14,  1,  2,  9,  2,  2,  3,  1,  3,  4,  4,  3,  9,\n",
              "        5,  0,  3,  0,  5,  0,  4,  2,  5,  4,  3,  3, 15,  5,  1,  3,  3,\n",
              "        5, 12,  0, 20,  3,  1,  4,  4,  7,  4,  3,  3,  1,  3,  5,  4,  1,\n",
              "       13,  3,  1,  0,  4, 14,  1,  4,  5,  3,  2,  3,  1,  0,  3, 10,  2,\n",
              "        0,  3,  1, 16,  0,  0,  4, 14,  4,  1, 16, 11, 16, 12,  3,  0,  2,\n",
              "        1,  0,  4,  5, 12, 12,  0,  0,  5,  5,  0,  1,  3,  1,  3,  3,  3,\n",
              "        1,  8,  0, 12,  4,  1,  4, 15,  1,  1,  1,  1,  2,  1,  1,  1,  4,\n",
              "        2,  4,  2,  3,  7, 15,  1,  4,  5,  4,  0,  4,  0,  4,  3,  3,  3,\n",
              "        0,  5,  0,  4,  4,  2,  1,  5,  7,  5,  5,  5,  0, 11,  2,  4,  9,\n",
              "        1,  3,  9,  3,  1,  2,  4,  0,  2,  4,  5,  1,  0,  1,  0,  2, 15,\n",
              "        4, 13,  1,  3, 10, 16,  3,  1,  4,  7,  4,  2,  0,  0, 18, 12,  1,\n",
              "        0,  8,  0,  2,  1,  7,  0, 18, 18,  8,  5,  2,  3,  1,  4,  2,  4,\n",
              "        0,  1,  0,  4,  0,  0,  3,  5,  0,  0,  4,  0,  5,  3,  1,  2,  5,\n",
              "        4,  0,  3,  2,  3,  5,  7, 18,  3,  3,  4, 18, 15,  1,  3,  3,  5,\n",
              "       10,  0, 12, 12,  1,  5,  2,  5,  4,  3,  4,  3,  5,  1,  1, 15, 14,\n",
              "        0,  3,  1,  4,  1,  1,  1,  4,  9,  3,  5,  2, 12,  1,  0,  3,  4,\n",
              "        5,  0,  0,  5,  0,  3,  4, 15,  5, 13,  4,  0, 18,  4,  3,  5,  8,\n",
              "        2, 18,  0, 11,  1,  0,  5, 16,  1,  4,  3,  2,  1,  4,  4,  3,  5,\n",
              "        0,  3, 15,  4,  5,  1,  4,  4,  5,  5,  3,  5,  0,  2,  5,  5,  1,\n",
              "       18, 16,  0,  4,  5,  0,  8,  4,  0,  0,  5,  3,  5,  3,  0,  1,  4,\n",
              "       15,  4,  4,  2,  1,  2,  2,  1, 17,  2,  3,  0,  2,  0,  4,  2,  3,\n",
              "       18,  0,  3,  5,  4,  3,  5, 18, 18,  0,  0,  5,  3,  0,  0, 16,  0,\n",
              "        5,  3,  3,  0,  5, 17,  4, 13, 18,  1,  3,  4,  3,  4,  4,  5,  3,\n",
              "        9,  0,  3, 12, 12,  7,  0, 15,  0,  5,  0,  2,  3,  1,  5,  3,  1,\n",
              "        2,  2,  4,  1,  7,  3,  3,  0,  5,  4, 18,  3,  5,  0,  5,  2,  3,\n",
              "       15,  4,  8,  3,  1,  2,  3,  4, 14,  1,  1,  4, 15,  3,  2,  4,  5,\n",
              "        5,  5,  0,  4, 15, 16,  4,  5,  4,  8,  7,  1, 15,  9,  0,  0,  2,\n",
              "        4,  5,  1,  1,  5,  5,  1,  4,  3,  0,  1,  5,  4,  3,  0,  0,  1,\n",
              "        3,  3,  0,  0,  1,  3,  2,  3,  4,  1,  7,  0,  5,  1,  5,  4,  0,\n",
              "        1,  3,  3,  3,  2,  3,  4,  1,  3,  1,  4,  7,  5,  1,  0,  5,  1,\n",
              "        1,  4,  4,  5, 11,  5,  3,  4,  3,  4,  5,  2,  3,  2,  7, 15,  0,\n",
              "        0, 11,  3,  2, 16,  0,  5, 12,  0,  5,  4,  3,  4,  1,  4,  2,  4,\n",
              "        4,  1, 16,  4,  4,  5,  0,  1,  1,  1,  1,  3,  2,  1,  3,  8,  9,\n",
              "        4,  3, 18,  4, 14,  4,  5,  4,  4,  1,  3,  5,  0,  5,  5,  3,  4,\n",
              "        1,  2,  5,  3,  2,  2,  1, 15,  3,  1,  2,  7,  4,  2,  5,  2,  4,\n",
              "        1,  4,  3,  3,  1,  5,  4,  4,  4,  5,  1, 14,  1,  0,  2,  3,  7,\n",
              "        0,  5,  2,  4,  0,  2,  1,  5,  9,  1,  1,  2,  1, 13, 12,  7,  1,\n",
              "        3, 18, 11,  4,  3,  3,  0,  4,  3,  8,  5,  8,  3,  2,  3,  1,  5,\n",
              "        5,  1,  0,  5,  4,  0,  3,  4,  1,  3,  4,  0,  9,  3,  9,  3,  0,\n",
              "        5, 15,  0,  2,  5,  4, 14,  1,  5,  5,  0,  4,  5,  1, 15,  4,  5,\n",
              "        1,  1,  3,  3,  5,  1,  3,  3,  5,  5,  5,  7,  8,  4,  2,  1, 18,\n",
              "        1,  5,  0,  4,  3,  0,  4,  0,  1,  4,  5,  1,  5,  1,  2,  0,  5,\n",
              "        5,  4,  0,  4,  4,  4, 12,  0,  1,  0,  4, 14,  4,  5,  0,  2,  1,\n",
              "        2, 12,  0,  1,  2,  5,  1,  3,  2,  8,  3,  5,  0, 10,  5,  5,  0,\n",
              "        0,  5,  3,  5,  3,  0,  4])"
            ]
          },
          "metadata": {},
          "execution_count": 618
        }
      ]
    },
    {
      "cell_type": "code",
      "source": [
        "restrue = pd.DataFrame(classes_xres1)"
      ],
      "metadata": {
        "id": "sQ-y2-KzGKgQ"
      },
      "execution_count": 620,
      "outputs": []
    },
    {
      "cell_type": "code",
      "source": [
        "restrue.value_counts()"
      ],
      "metadata": {
        "colab": {
          "base_uri": "https://localhost:8080/"
        },
        "id": "4vxf_vWuIRH2",
        "outputId": "57e773fb-6099-45f4-cd5b-cbb59e77c2b0"
      },
      "execution_count": 621,
      "outputs": [
        {
          "output_type": "execute_result",
          "data": {
            "text/plain": [
              "4     150\n",
              "3     148\n",
              "1     140\n",
              "0     136\n",
              "5     128\n",
              "2      85\n",
              "15     20\n",
              "12     19\n",
              "18     18\n",
              "7      18\n",
              "8      18\n",
              "16     13\n",
              "9      12\n",
              "14     11\n",
              "11      9\n",
              "13      8\n",
              "10      5\n",
              "17      2\n",
              "20      2\n",
              "dtype: int64"
            ]
          },
          "metadata": {},
          "execution_count": 621
        }
      ]
    },
    {
      "cell_type": "code",
      "source": [
        "restrue.to_csv('restrue.csv')"
      ],
      "metadata": {
        "id": "A8USw3CmGeWE"
      },
      "execution_count": 622,
      "outputs": []
    },
    {
      "cell_type": "markdown",
      "source": [
        "## CNN"
      ],
      "metadata": {
        "id": "kXhKVaF8DHlo"
      }
    },
    {
      "cell_type": "code",
      "source": [
        "from sklearn.preprocessing import LabelEncoder\n",
        "\n",
        "\n",
        "# Convert features and corresponding classification labels into numpy arrays\n",
        "#X = np.array(findf['mel'].tolist())\n",
        "X = np.array(train512['FileName'].tolist())\n",
        "testx512 = np.array(test512['FileName'].tolist())\n",
        "y = np.array(dfres['Res2'].tolist())\n",
        "#x = np.concatenate([X,x1])\n",
        "# Encode the classification labels\n",
        "le = LabelEncoder()\n",
        "yy = to_categorical(le.fit_transform(y)) \n",
        "\n"
      ],
      "metadata": {
        "id": "z4tjq7XzQvCI"
      },
      "execution_count": 559,
      "outputs": []
    },
    {
      "cell_type": "code",
      "source": [
        "X.shape"
      ],
      "metadata": {
        "colab": {
          "base_uri": "https://localhost:8080/"
        },
        "id": "LkRJSrv5ylo3",
        "outputId": "7b6f57ff-1afe-46e5-8bc6-5ab0147c8ab6"
      },
      "execution_count": 560,
      "outputs": [
        {
          "output_type": "execute_result",
          "data": {
            "text/plain": [
              "(6500, 512)"
            ]
          },
          "metadata": {},
          "execution_count": 560
        }
      ]
    },
    {
      "cell_type": "code",
      "source": [
        "ss = StandardScaler()\n",
        "X = ss.fit_transform(X)\n",
        "testX = ss.fit_transform(testX)\n",
        "testx512 = ss.fit_transform(testx512)"
      ],
      "metadata": {
        "id": "QKveJBU2ZdLZ"
      },
      "execution_count": 561,
      "outputs": []
    },
    {
      "cell_type": "code",
      "source": [
        "X = X.reshape(6500,32,16)"
      ],
      "metadata": {
        "id": "senEP6mKzjTw"
      },
      "execution_count": 562,
      "outputs": []
    },
    {
      "cell_type": "code",
      "source": [
        "testx512 = testx512.reshape(942,32,16)"
      ],
      "metadata": {
        "id": "9HZvMH6iuSna"
      },
      "execution_count": 563,
      "outputs": []
    },
    {
      "cell_type": "code",
      "source": [
        "# split the dataset \n",
        "from sklearn.model_selection import train_test_split \n",
        "\n",
        "#x_train, x_test, y_train, y_test = train_test_split(X, yy, test_size=0.2, random_state = 42)\n",
        "x_train, x_val, y_train, y_val = train_test_split(x_train, y_train, test_size=0.2, random_state = 42)"
      ],
      "metadata": {
        "id": "GWbS36B-fArS"
      },
      "execution_count": 554,
      "outputs": []
    },
    {
      "cell_type": "code",
      "source": [
        "x_train, x_val, y_train, y_val = train_test_split(X, yy, test_size=0.15, random_state = 42)"
      ],
      "metadata": {
        "id": "EhzRMyIJw4-t"
      },
      "execution_count": 564,
      "outputs": []
    },
    {
      "cell_type": "code",
      "source": [
        "y_val.shape"
      ],
      "metadata": {
        "colab": {
          "base_uri": "https://localhost:8080/"
        },
        "id": "X93HBKohTpWx",
        "outputId": "66d8e5da-c098-4382-96a5-5f52f9fcbdf7"
      },
      "execution_count": 556,
      "outputs": [
        {
          "output_type": "execute_result",
          "data": {
            "text/plain": [
              "(975, 6)"
            ]
          },
          "metadata": {},
          "execution_count": 556
        }
      ]
    },
    {
      "cell_type": "code",
      "source": [
        "x_train = x_train[...,np.newaxis]\n",
        "x_val = x_val[...,np.newaxis]\n",
        "x_test = x_test[...,np.newaxis]\n",
        "testx512 = testx512[...,np.newaxis]"
      ],
      "metadata": {
        "id": "XOaBpyTzW2uG"
      },
      "execution_count": 565,
      "outputs": []
    },
    {
      "cell_type": "code",
      "source": [
        "x_train.ndim"
      ],
      "metadata": {
        "colab": {
          "base_uri": "https://localhost:8080/"
        },
        "id": "tvbE1JHBZnEl",
        "outputId": "54f2a4af-f52f-4a0e-a90b-1d2b70a0f284"
      },
      "execution_count": 566,
      "outputs": [
        {
          "output_type": "execute_result",
          "data": {
            "text/plain": [
              "4"
            ]
          },
          "metadata": {},
          "execution_count": 566
        }
      ]
    },
    {
      "cell_type": "code",
      "source": [
        "import numpy as np\n",
        "from keras.models import Sequential\n",
        "from keras.layers import Dense, Dropout, Activation, Flatten\n",
        "from keras.layers import Convolution2D,Convolution1D, Conv2D,Conv1D, MaxPooling2D, GlobalAveragePooling2D,BatchNormalization, MaxPool2D\n",
        "#from keras.optimizers import Adam\n",
        "from keras.utils import np_utils\n",
        "from sklearn import metrics"
      ],
      "metadata": {
        "id": "NC1uhx9-Te5b"
      },
      "execution_count": 567,
      "outputs": []
    },
    {
      "cell_type": "code",
      "source": [
        "model1 = keras.Sequential()\n",
        "model1.add(Conv2D(filters=32, kernel_size=(2,2), input_shape=(32, 16, 1), activation='relu' ))\n",
        "model1.add(MaxPooling2D(pool_size=(2,2)))\n",
        "model1.add(keras.layers.BatchNormalization())\n",
        "# layer 2\n",
        "model1.add(Conv2D(filters=32, kernel_size=(2,2), input_shape=(16, 8, 1), activation='relu'))\n",
        "model1.add(MaxPooling2D(pool_size=(2,2)))\n",
        "model1.add(keras.layers.BatchNormalization())\n",
        "#3rd layer\n",
        "#model1.add(Conv2D(filters=16, kernel_size=(2,2), input_shape=(16, 8, 1), activation='relu'))\n",
        "#model1.add(MaxPooling2D(pool_size=(2,2)))\n",
        "#model1.add(keras.layers.BatchNormalization())\n",
        "#4th\n",
        "\n",
        "model1.add(Flatten())\n",
        "model1.add(Dense(32,activation='relu'))\n",
        "#model1.add(keras.layers.Dropout(0.4))\n",
        "#model1.add(Dropout(0.2))\n",
        "model1.add(Dense(32, activation='sigmoid'))\n",
        "#output layer\n",
        "model1.add(keras.layers.Dense(6,activation='softmax'))"
      ],
      "metadata": {
        "id": "Yhsofoggx5NN"
      },
      "execution_count": 574,
      "outputs": []
    },
    {
      "cell_type": "code",
      "source": [
        "optimizers = tensorflow.keras.optimizers.Adam(learning_rate  = 0.001)\n",
        "model1.compile(optimizer = optimizers,loss = 'categorical_crossentropy', metrics = ['accuracy'])"
      ],
      "metadata": {
        "id": "DDfWSdHwgwzw"
      },
      "execution_count": 575,
      "outputs": []
    },
    {
      "cell_type": "code",
      "source": [
        "output1 = model1.fit(x_train,y_train, validation_data = (x_val,y_val), batch_size = 128 , epochs = 100)"
      ],
      "metadata": {
        "id": "lNCiSFeEhkpM"
      },
      "execution_count": null,
      "outputs": []
    },
    {
      "cell_type": "code",
      "source": [
        "output1"
      ],
      "metadata": {
        "colab": {
          "base_uri": "https://localhost:8080/"
        },
        "id": "OMAmd9rHu79P",
        "outputId": "7ad625e1-ac1e-4b59-b9e2-569fd8f6c3e5"
      },
      "execution_count": null,
      "outputs": [
        {
          "output_type": "execute_result",
          "data": {
            "text/plain": [
              "<keras.callbacks.History at 0x7f78560f3550>"
            ]
          },
          "metadata": {},
          "execution_count": 133
        }
      ]
    },
    {
      "cell_type": "code",
      "source": [
        "score = model1.predict(x_train, y_train, verbose=0)\n",
        "print(\"Training Accuracy: \", score[1])\n",
        "\n",
        "score = model1.evaluate(x_test, y_test, verbose=0)\n",
        "print(\"Testing Accuracy: \", score[1])"
      ],
      "metadata": {
        "id": "BJMIeZsAvU4U"
      },
      "execution_count": null,
      "outputs": []
    },
    {
      "cell_type": "code",
      "source": [
        "score = model.evaluate(x_train, y_train, verbose=0)\n",
        "print(\"Training Accuracy: \", score[1])\n",
        "\n",
        "score = model.evaluate(x_test, y_test, verbose=0)\n",
        "print(\"Testing Accuracy: \", score[1])"
      ],
      "metadata": {
        "colab": {
          "base_uri": "https://localhost:8080/"
        },
        "id": "f_I3GT83dWXd",
        "outputId": "a2d9f300-8e06-4174-82e1-435891d0227b"
      },
      "execution_count": null,
      "outputs": [
        {
          "output_type": "stream",
          "name": "stdout",
          "text": [
            "Training Accuracy:  0.5538461804389954\n",
            "Testing Accuracy:  0.36076924204826355\n"
          ]
        }
      ]
    },
    {
      "cell_type": "code",
      "source": [
        "score = model1.predict(testX)\n",
        "classes_x = np.argmax(score,axis=1)"
      ],
      "metadata": {
        "id": "BRYsOWLBDfJk"
      },
      "execution_count": 313,
      "outputs": []
    },
    {
      "cell_type": "code",
      "source": [
        "classes_x"
      ],
      "metadata": {
        "id": "-M_WKbxSK-mQ",
        "colab": {
          "base_uri": "https://localhost:8080/"
        },
        "outputId": "af2d12f7-b7c1-4db4-e994-4c9020b9e062"
      },
      "execution_count": 314,
      "outputs": [
        {
          "output_type": "execute_result",
          "data": {
            "text/plain": [
              "array([1, 1, 0, 0, 3, 5, 4, 5, 5, 0, 0, 4, 4, 5, 1, 3, 3, 2, 3, 1, 0, 1,\n",
              "       5, 4, 3, 1, 3, 4, 5, 0, 3, 2, 5, 5, 0, 5, 3, 0, 2, 1, 0, 1, 5, 3,\n",
              "       2, 0, 5, 5, 4, 5, 4, 2, 1, 2, 5, 5, 1, 3, 0, 4, 2, 5, 3, 0, 4, 5,\n",
              "       3, 4, 4, 1, 0, 2, 0, 3, 5, 0, 3, 0, 2, 4, 3, 5, 1, 5, 3, 1, 0, 5,\n",
              "       3, 2, 1, 1, 3, 1, 5, 3, 0, 4, 5, 5, 0, 0, 5, 2, 1, 1, 3, 1, 4, 4,\n",
              "       5, 1, 5, 0, 3, 5, 4, 4, 0, 2, 5, 0, 5, 1, 4, 1, 5, 4, 1, 3, 0, 2,\n",
              "       0, 5, 3, 4, 0, 0, 4, 1, 3, 0, 5, 5, 2, 1, 0, 5, 1, 0, 1, 3, 0, 2,\n",
              "       0, 3, 0, 0, 0, 5, 1, 0, 1, 0, 3, 2, 5, 5, 0, 4, 0, 5, 1, 3, 3, 4,\n",
              "       0, 0, 1, 1, 3, 5, 4, 5, 1, 0, 0, 3, 3, 3, 0, 3, 1, 5, 3, 0, 3, 2,\n",
              "       3, 4, 1, 5, 3, 0, 5, 0, 4, 0, 5, 0, 2, 0, 5, 5, 4, 4, 0, 5, 5, 3,\n",
              "       4, 5, 2, 3, 1, 2, 1, 4, 4, 2, 5, 3, 1, 4, 4, 2, 5, 4, 1, 0, 4, 0,\n",
              "       4, 3, 3, 3, 5, 4, 0, 3, 1, 0, 0, 1, 5, 0, 2, 5, 0, 0, 3, 0, 4, 4,\n",
              "       4, 0, 3, 3, 1, 1, 3, 0, 3, 3, 5, 4, 1, 1, 0, 3, 5, 3, 0, 5, 3, 3,\n",
              "       3, 3, 3, 3, 5, 0, 1, 1, 4, 3, 5, 1, 3, 1, 5, 5, 5, 1, 1, 2, 1, 1,\n",
              "       1, 1, 1, 5, 5, 2, 1, 4, 4, 5, 2, 1, 3, 3, 0, 0, 5, 0, 5, 5, 1, 3,\n",
              "       3, 1, 3, 5, 5, 0, 0, 5, 4, 2, 4, 4, 5, 3, 5, 5, 3, 0, 5, 4, 5, 4,\n",
              "       3, 1, 0, 5, 5, 4, 2, 1, 3, 1, 2, 3, 2, 5, 5, 1, 2, 0, 4, 0, 1, 1,\n",
              "       3, 0, 0, 2, 3, 5, 0, 1, 0, 2, 5, 0, 5, 5, 5, 3, 0, 2, 1, 3, 4, 0,\n",
              "       3, 3, 5, 0, 0, 4, 4, 0, 0, 5, 1, 5, 3, 0, 3, 2, 0, 5, 1, 3, 0, 3,\n",
              "       0, 0, 5, 1, 3, 3, 4, 5, 1, 1, 3, 3, 4, 3, 5, 3, 3, 4, 0, 1, 3, 2,\n",
              "       5, 4, 0, 3, 1, 4, 1, 2, 3, 0, 1, 0, 5, 5, 1, 5, 0, 3, 3, 5, 4, 3,\n",
              "       4, 0, 4, 4, 5, 5, 5, 1, 0, 1, 1, 3, 4, 5, 0, 0, 3, 0, 4, 3, 4, 0,\n",
              "       0, 3, 3, 5, 1, 0, 3, 2, 4, 1, 3, 4, 4, 4, 5, 4, 4, 4, 5, 1, 5, 0,\n",
              "       5, 5, 5, 5, 0, 0, 0, 3, 5, 3, 5, 1, 3, 0, 5, 4, 5, 4, 4, 1, 3, 5,\n",
              "       2, 4, 3, 5, 3, 5, 1, 0, 5, 5, 3, 4, 0, 5, 2, 3, 2, 0, 4, 4, 3, 5,\n",
              "       4, 0, 0, 0, 1, 5, 0, 4, 0, 0, 0, 5, 1, 0, 2, 5, 0, 5, 1, 1, 4, 1,\n",
              "       5, 5, 4, 5, 5, 3, 2, 1, 0, 0, 2, 5, 1, 4, 0, 2, 3, 0, 4, 4, 5, 2,\n",
              "       5, 5, 3, 5, 3, 1, 2, 3, 3, 5, 4, 0, 3, 5, 2, 0, 4, 3, 5, 4, 5, 2,\n",
              "       3, 4, 4, 3, 0, 2, 1, 1, 5, 1, 3, 5, 5, 5, 5, 0, 2, 5, 0, 4, 5, 5,\n",
              "       5, 5, 4, 5, 3, 0, 4, 0, 4, 2, 5, 1, 5, 5, 5, 3, 0, 0, 2, 5, 4, 1,\n",
              "       3, 3, 5, 3, 3, 0, 0, 5, 0, 1, 3, 5, 3, 4, 3, 3, 5, 5, 4, 0, 5, 0,\n",
              "       0, 0, 0, 3, 5, 4, 3, 5, 4, 5, 5, 2, 0, 5, 4, 0, 4, 3, 5, 0, 5, 0,\n",
              "       1, 3, 4, 1, 5, 4, 5, 5, 5, 3, 1, 0, 0, 0, 0, 3, 1, 1, 0, 5, 1, 4,\n",
              "       4, 4, 4, 2, 4, 1, 5, 0, 5, 3, 2, 1, 5, 1, 3, 4, 0, 4, 5, 1, 1, 0,\n",
              "       4, 1, 0, 5, 4, 0, 1, 0, 5, 5, 5, 3, 3, 5, 3, 4, 4, 5, 5, 5, 3, 0,\n",
              "       1, 5, 5, 5, 1, 3, 5, 4, 2, 4, 5, 3, 1, 2, 0, 2, 5, 5, 2, 2, 4, 5,\n",
              "       5, 1, 2, 0, 1, 2, 2, 0, 5, 2, 0, 4, 2, 2, 2, 4, 3, 1, 5, 4, 5, 4,\n",
              "       2, 2, 1, 0, 0, 4, 0, 0, 0, 0, 2, 4, 5, 5, 3, 1, 0, 0, 5, 5, 4, 0,\n",
              "       4, 5, 0, 3, 5, 0, 1, 4, 3, 4, 2, 3, 2, 1, 5, 5, 0, 1, 5, 5, 2, 5,\n",
              "       4, 4, 0, 2, 5, 4, 5, 1, 2, 0, 4, 0, 1, 3, 3, 2, 1, 2, 4, 5, 3, 5,\n",
              "       1, 5, 5, 0, 0, 5, 2, 2, 1, 0, 1, 0, 4, 2, 3, 5, 5, 5, 5, 0, 5, 1,\n",
              "       5, 3, 4, 2, 3, 2, 0, 5, 0, 4, 3, 5, 1, 2, 4, 1, 2, 5, 0, 1, 4, 5,\n",
              "       5, 1, 5, 3, 0, 5, 0, 5, 4, 5, 0, 0, 5, 5, 5, 0, 0, 2])"
            ]
          },
          "metadata": {},
          "execution_count": 314
        }
      ]
    },
    {
      "cell_type": "code",
      "source": [
        "cnv2res = pd.DataFrame(classes_x)"
      ],
      "metadata": {
        "id": "9QAJCiyhDiuH"
      },
      "execution_count": 315,
      "outputs": []
    },
    {
      "cell_type": "code",
      "source": [
        "cnv2res.value_counts()"
      ],
      "metadata": {
        "colab": {
          "base_uri": "https://localhost:8080/"
        },
        "id": "OQumgvtlJE4_",
        "outputId": "6a19e6e5-4be1-4e5a-9fb7-b68fcccbbb11"
      },
      "execution_count": 317,
      "outputs": [
        {
          "output_type": "execute_result",
          "data": {
            "text/plain": [
              "5    232\n",
              "0    190\n",
              "3    158\n",
              "4    140\n",
              "1    136\n",
              "2     86\n",
              "dtype: int64"
            ]
          },
          "metadata": {},
          "execution_count": 317
        }
      ]
    },
    {
      "cell_type": "code",
      "source": [
        "cnv2res.to_csv('cnv2res.csv')"
      ],
      "metadata": {
        "id": "rJ0fnHqaKTwC"
      },
      "execution_count": 318,
      "outputs": []
    },
    {
      "cell_type": "markdown",
      "source": [
        "## Random forest\n"
      ],
      "metadata": {
        "id": "e9Bcn33lWiOP"
      }
    },
    {
      "cell_type": "code",
      "source": [
        "from sklearn.preprocessing import LabelEncoder\n",
        "\n",
        "\n",
        "# Convert features and corresponding classification labels into numpy arrays\n",
        "X = np.array(findf['mfcc'].tolist())\n",
        "x1 = np.array(findf['chroma'].tolist())\n",
        "y = np.array(findf['Res1'].tolist())\n",
        "#x = np.concatenate([X,x1])\n",
        "# Encode the classification labels\n",
        "le = LabelEncoder()\n",
        "yy = to_categorical(le.fit_transform(y))"
      ],
      "metadata": {
        "id": "RU152OcHWkax"
      },
      "execution_count": null,
      "outputs": []
    },
    {
      "cell_type": "code",
      "source": [
        "# split the dataset \n",
        "from sklearn.model_selection import train_test_split \n",
        "\n",
        "x_train, x_test, y_train, y_test = train_test_split(x1, yy, test_size=0.2, random_state = 42)"
      ],
      "metadata": {
        "id": "zOPioupgWvhj"
      },
      "execution_count": null,
      "outputs": []
    },
    {
      "cell_type": "code",
      "source": [
        "from sklearn.ensemble import RandomForestClassifier"
      ],
      "metadata": {
        "id": "d6OcA23mYCk8"
      },
      "execution_count": null,
      "outputs": []
    },
    {
      "cell_type": "code",
      "source": [
        "clf = RandomForestClassifier(n_estimators = 100)"
      ],
      "metadata": {
        "id": "MvMTI0PMYHy5"
      },
      "execution_count": null,
      "outputs": []
    },
    {
      "cell_type": "code",
      "source": [
        "clf.fit(x_train, y_train)"
      ],
      "metadata": {
        "colab": {
          "base_uri": "https://localhost:8080/"
        },
        "id": "HuCKwkqxYbaF",
        "outputId": "b0e14530-c7a9-49d5-adc6-2ec219086f9b"
      },
      "execution_count": null,
      "outputs": [
        {
          "output_type": "execute_result",
          "data": {
            "text/plain": [
              "RandomForestClassifier()"
            ]
          },
          "metadata": {},
          "execution_count": 320
        }
      ]
    },
    {
      "cell_type": "code",
      "source": [
        "y_pred = clf.predict(x_test)"
      ],
      "metadata": {
        "id": "MEHT7i7hYlSU"
      },
      "execution_count": null,
      "outputs": []
    },
    {
      "cell_type": "code",
      "source": [
        "from sklearn import metrics \n",
        "print()\n",
        "print(\"ACCURACY OF THE MODEL: \", metrics.accuracy_score(y_test, y_pred))"
      ],
      "metadata": {
        "colab": {
          "base_uri": "https://localhost:8080/"
        },
        "id": "f3dz7kv8Ygb3",
        "outputId": "8fe32d86-e0ab-44d6-f796-f2a1d0d131ae"
      },
      "execution_count": null,
      "outputs": [
        {
          "output_type": "stream",
          "name": "stdout",
          "text": [
            "\n",
            "ACCURACY OF THE MODEL:  0.8076923076923077\n"
          ]
        }
      ]
    },
    {
      "cell_type": "code",
      "source": [
        "import os\n",
        "import matplotlib\n",
        "matplotlib.use('Agg') # No pictures displayed \n",
        "import pylab\n",
        "import librosa\n",
        "import librosa.display\n",
        "import numpy as np\n",
        "\n",
        "sig, fs = librosa.load('/content/drive/MyDrive/Voice Tone/Train Files/10017537.wav')   \n",
        "# make pictures name \n",
        "save_path = 'test.jpg'\n",
        "\n",
        "pylab.axis('off') # no axis\n",
        "pylab.axes([0., 0., 1., 1.], frameon=False, xticks=[], yticks=[]) # Remove the white edge\n",
        "S = librosa.feature.melspectrogram(y=sig, sr=fs)\n",
        "librosa.display.specshow(librosa.power_to_db(S, ref=np.max))\n",
        "pylab.savefig(save_path, bbox_inches=None, pad_inches=0)\n",
        "pylab.close()"
      ],
      "metadata": {
        "id": "-7Nej6oFM6ck"
      },
      "execution_count": 470,
      "outputs": []
    }
  ]
}